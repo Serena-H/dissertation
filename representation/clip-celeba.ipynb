{
 "cells": [
  {
   "cell_type": "code",
   "execution_count": 1,
   "id": "333ccc54",
   "metadata": {},
   "outputs": [],
   "source": [
    "import os\n",
    "import clip\n",
    "import torch"
   ]
  },
  {
   "cell_type": "code",
   "execution_count": 2,
   "id": "2ffc08ef",
   "metadata": {},
   "outputs": [
    {
     "name": "stderr",
     "output_type": "stream",
     "text": [
      "100%|███████████████████████████████████████| 338M/338M [00:35<00:00, 9.93MiB/s]\n"
     ]
    }
   ],
   "source": [
    "device = \"cuda\" if torch.cuda.is_available() else \"cpu\"\n",
    "model, preprocess = clip.load('ViT-B/32', device)"
   ]
  },
  {
   "cell_type": "code",
   "execution_count": 5,
   "id": "d5969d03",
   "metadata": {},
   "outputs": [],
   "source": [
    "from PIL import Image\n",
    "list1 = os.listdir(\"./CelebA/Img/img_align_celeba/has\")\n",
    "\n",
    "all_features = []\n",
    "\n",
    "for i in range(len(list1)):\n",
    "    imgName = os.path.basename(list1[i])\n",
    "    image = preprocess(Image.open(\"./CelebA/Img/img_align_celeba/\" + imgName)).unsqueeze(0).to(device)\n",
    "    #text = clip.tokenize([\"eyeglasses\"]).to(device)\n",
    "    \n",
    "    with torch.no_grad():\n",
    "        image_features = model.encode_image(image)\n",
    "        #text_features = model.encode_text(text)\n",
    "        all_features.append(image_features)"
   ]
  },
  {
   "cell_type": "code",
   "execution_count": null,
   "id": "f731f585",
   "metadata": {},
   "outputs": [],
   "source": [
    "newTxt = \"representation.txt\"\n",
    "newf = open(newTxt, \"a+\")\n",
    "newf.write(all_features)"
   ]
  }
 ],
 "metadata": {
  "kernelspec": {
   "display_name": "Python 3 (ipykernel)",
   "language": "python",
   "name": "python3"
  },
  "language_info": {
   "codemirror_mode": {
    "name": "ipython",
    "version": 3
   },
   "file_extension": ".py",
   "mimetype": "text/x-python",
   "name": "python",
   "nbconvert_exporter": "python",
   "pygments_lexer": "ipython3",
   "version": "3.9.7"
  }
 },
 "nbformat": 4,
 "nbformat_minor": 5
}
