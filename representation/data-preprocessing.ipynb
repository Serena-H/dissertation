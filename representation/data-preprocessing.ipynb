{
 "cells": [
  {
   "cell_type": "code",
   "execution_count": 2,
   "id": "033c2cf6",
   "metadata": {},
   "outputs": [
    {
     "name": "stdout",
     "output_type": "stream",
     "text": [
      "1\n",
      "There are 0 lines in glass.txt\n",
      "There are 0 lines in noGlass.txt\n"
     ]
    }
   ],
   "source": [
    "f = open(\"./CelebA_Anno/list_attr_celeba.txt\")\n",
    "newTxt = \"glass.txt\"\n",
    "newf = open(newTxt, \"a+\")\n",
    "newNoTxt = \"noGlass.txt\"\n",
    "newNof = open(newNoTxt, \"a+\")\n",
    "\n",
    "line = f.readline() \n",
    "line = f.readline() \n",
    "line = f.readline() \n",
    "while line:\n",
    "    array = line.split()\n",
    "    if (array[0] == \"000154.jpg\"): print(array[16])\n",
    "\n",
    "    if (array[16] == \"-1\"): \n",
    "        new_context = array[0] + '\\n'\n",
    "        newNof.write(new_context)\n",
    "    else: \n",
    "        new_context = array[0] + '\\n'\n",
    "        newf.write(new_context)\n",
    "    line = f.readline()\n",
    "\n",
    "lines = len(newf.readlines()) \n",
    "print (\"There are %d lines in %s\" % (lines, newTxt)) \n",
    "lines = len(newNof.readlines()) \n",
    "print (\"There are %d lines in %s\" % (lines, newNoTxt))\n",
    "\n",
    "f.close()\n",
    "newf.close()\n",
    "newNof.close()"
   ]
  },
  {
   "cell_type": "code",
   "execution_count": 48,
   "id": "8543746f",
   "metadata": {},
   "outputs": [],
   "source": [
    "f = open(\"/afs/inf.ed.ac.uk/user/s22/s2226904/Final_Project/pythonProject/CelebA_Anno/list_attr_celeba.txt\")\n",
    "newTxt = \"Young.txt\"\n",
    "newf = open(newTxt, \"a+\")\n",
    "\n",
    "line = f.readline() \n",
    "line = f.readline() \n",
    "line = f.readline() \n",
    "while line:\n",
    "    array = line.split()\n",
    "    \n",
    "    if (array[40] == \"1\"): \n",
    "        new_context = array[0] + '\\n'\n",
    "        newf.write(new_context)\n",
    "        \n",
    "    line = f.readline()\n",
    "\n",
    "\n",
    "f.close()\n",
    "newf.close()"
   ]
  },
  {
   "cell_type": "code",
   "execution_count": null,
   "id": "ba619606",
   "metadata": {},
   "outputs": [],
   "source": [
    "import os\n",
    "import shutil\n",
    "\n",
    "#nof = open(\"noGlass.txt\")\n",
    "hasf = open(\"5_o_Clock_Shadow.txt\")\n",
    "\n",
    "#noLine = nof.readline() \n",
    "hasLine = hasf.readline() \n",
    "\n",
    "list1 = os.listdir(\"./CelebA/Img/img_align_celeba\")\n",
    "hasGo = True\n",
    "#noGo = True\n",
    "\n",
    "x = 0\n",
    "i = 0\n",
    "\n",
    "while x < 65:\n",
    "    imgName = os.path.basename(list1[i])\n",
    "    if (os.path.splitext(imgName)[1] != \".jpg\"): continue\n",
    "\n",
    "    #noArray = noLine.split()\n",
    "    #if (len(noArray) < 1): noGo = False\n",
    "    hasArray = hasLine.split()\n",
    "    if (len(hasArray) < 1): hasGo = False\n",
    "\n",
    "    #if (noGo and (imgName == noArray[0])):\n",
    "        #oldname= \"./\"+imgName\n",
    "        #newname=\"./noGlass/\"+imgName\n",
    "        #shutil.move(oldname, newname)\n",
    "        #noLine = nof.readline()\n",
    "    if (hasGo and (imgName == hasArray[0])):\n",
    "        oldname= \"./\"+imgName\n",
    "        newname=\"./has/\"+imgName\n",
    "        shutil.move(oldname, newname)\n",
    "        hasLine = hasf.readline()\n",
    "        x += 1\n",
    "    i +=1\n",
    "\n",
    "    \n",
    "hasf.close()"
   ]
  },
  {
   "cell_type": "code",
   "execution_count": null,
   "id": "21653dce",
   "metadata": {},
   "outputs": [],
   "source": []
  }
 ],
 "metadata": {
  "kernelspec": {
   "display_name": "Python 3 (ipykernel)",
   "language": "python",
   "name": "python3"
  },
  "language_info": {
   "codemirror_mode": {
    "name": "ipython",
    "version": 3
   },
   "file_extension": ".py",
   "mimetype": "text/x-python",
   "name": "python",
   "nbconvert_exporter": "python",
   "pygments_lexer": "ipython3",
   "version": "3.9.7"
  }
 },
 "nbformat": 4,
 "nbformat_minor": 5
}
